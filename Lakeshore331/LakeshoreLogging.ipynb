{
 "cells": [
  {
   "cell_type": "markdown",
   "id": "bfb1f8bd-eb40-4594-8be5-b47fc745a228",
   "metadata": {},
   "source": [
    "# Lakeshore datalogger\n",
    "\n",
    "This program will hopefully do some realtime data logging and help get Fry working at peak potential. The usage is simple.\n",
    "\n",
    "Step 1: Put the file name in the `filename` variable. This will have `<currenttime>.csv` appended to it, so just give us the path to a directory and it will work. \n",
    "\n",
    "Step 2: Run the first code cell\n",
    "\n",
    "Sept 3: Take the printed out resource that you want and put it in the `device_ID` variable at the top of the next cell. Run the next two cells and you will continue without incident!\n",
    "\n",
    "To hault the program, just send an interupt!"
   ]
  },
  {
   "cell_type": "code",
   "execution_count": 1,
   "id": "5d6504c5-7996-48e4-9e27-9451c5fc113c",
   "metadata": {},
   "outputs": [
    {
     "name": "stdout",
     "output_type": "stream",
     "text": [
      "()\n"
     ]
    },
    {
     "name": "stderr",
     "output_type": "stream",
     "text": [
      "/home/auttieb/anaconda3/lib/python3.9/site-packages/pyvisa_py/tcpip.py:121: UserWarning: TCPIP::hislip resource discovery requires the zeroconf package to be installed... try 'pip install zeroconf'\n",
      "  warnings.warn(\n"
     ]
    }
   ],
   "source": [
    "filename = \"./datalogging/\"\n",
    "\n",
    "\n",
    "\n",
    "import matplotlib.pyplot as plt # Used for plotting\n",
    "from IPython import display # Lets the graphs update in real time\n",
    "from LS331 import LS331 as ls  # Lakeshore module\n",
    "from datetime import datetime # For files\n",
    "import time # S L E E P oh and also that thing to \n",
    "\n",
    "# Get the controller\n",
    "lakesh = ls()\n",
    "print(lakesh.getResources())"
   ]
  },
  {
   "cell_type": "code",
   "execution_count": null,
   "id": "2a3b3bc6-8317-411f-bae5-2dbb6967d604",
   "metadata": {},
   "outputs": [],
   "source": [
    "device_ID = \"\"\n",
    "# Connect to controller\n",
    "lakesh.connect(devicePath = device_ID)\n",
    "#Define filename\n",
    "filename = filename + datetime.now().strftime(\"%y%m%d-%h%m%s\")+\".csv\"\n",
    "# Open file and write header\n",
    "file = open(filename, mode='w')\n",
    "file.write(\"time,tempA,tempB\\n\")\n",
    "# Set up some lists \n",
    "readtime = []\n",
    "tempA = []\n",
    "tempB = []\n",
    "# Used for the output file\n",
    "t0 = time.now()\n",
    "# Now we enter the loop! The Try/except lets us get out of it with an interupt!\n",
    "try: \n",
    "    while True:\n",
    "        # Reads the temps and stores it into lists. Lists are only used for plotting. \n",
    "        readtime.append(time.now()-t0)\n",
    "        temps = lakesh.queryTemp()\n",
    "        tempA.append(temps[0])\n",
    "        tempB.append(temps[1])\n",
    "        \n",
    "        #This does the file writing. I am manually formatting my csv because I don't need anything too complex. \n",
    "        file.write(f\"{readtime[-1]:.1f},{temps[0]},{temps[1]}\\n\")\n",
    "        \n",
    "        # This will do the plotting\n",
    "        (ax1, ax2), fig = plt.subplots(1,1, sharex=True, figsize=(15,7))\n",
    "        ax1.plot(readtime, tempA, label=\"Probe A\")\n",
    "        ax2.plot(readtime, tempB, label=\"Probe B\")\n",
    "        ax2.set_xlabel(\"Time Elapsed (s)\")\n",
    "        ax1.set_title(\"Probe A\")\n",
    "        ax2.set_title(\"probe B\")\n",
    "        ax1.set_ylabel(\"Temp (K)\")\n",
    "        ax2.set_ylabel(\"Temp (K)\")\n",
    "        fig.\n",
    "        # This displays the current temperature\n",
    "        print(f\"Time: {readtime[-1]:.0f}, Temp A: {temps[0]}, Temp B: {temps[1]}\", end=\"\\r\")\n",
    "        plt.show()\n",
    "        time.wait(sampletime)\n",
    "        display.clear_display(wait=True)\n",
    "        \n",
    "        \n",
    "except KeyboardInterrupt:\n",
    "    file.close()\n",
    "    lakesh.closeConnection()\n"
   ]
  }
 ],
 "metadata": {
  "kernelspec": {
   "display_name": "Python 3 (ipykernel)",
   "language": "python",
   "name": "python3"
  },
  "language_info": {
   "codemirror_mode": {
    "name": "ipython",
    "version": 3
   },
   "file_extension": ".py",
   "mimetype": "text/x-python",
   "name": "python",
   "nbconvert_exporter": "python",
   "pygments_lexer": "ipython3",
   "version": "3.9.13"
  }
 },
 "nbformat": 4,
 "nbformat_minor": 5
}
